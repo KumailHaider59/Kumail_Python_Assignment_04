{
 "cells": [
  {
   "cell_type": "code",
   "execution_count": 1,
   "id": "003859fc",
   "metadata": {},
   "outputs": [
    {
     "name": "stdout",
     "output_type": "stream",
     "text": [
      "Enter First number: 5\n",
      "Enter Second number: 8\n",
      "Choose any of these operations +, -, *, /, **: +\n",
      "5 + 8 = 13\n"
     ]
    }
   ],
   "source": [
    "# Question - 01: Make a calculator using Python with addition , subtraction , multiplication ,division and  power\n",
    "num1 = int(input(\"Enter First number: \"))\n",
    "num2 = int(input(\"Enter Second number: \"))\n",
    "\n",
    "ch = input(\"Choose any of these operations +, -, *, /, **: \")\n",
    "\n",
    "result = 0\n",
    "if ch == '+':\n",
    "    result = num1 + num2\n",
    "elif ch == '-':\n",
    "    result = num1 - num2\n",
    "elif ch == '*':\n",
    "    result = num1 * num2\n",
    "elif ch == '/':\n",
    "    result = num1 / num2\n",
    "elif ch == '**':\n",
    "    result = num1 ** num2\n",
    "else:\n",
    "    print(\"Input character is not recognized!\")\n",
    "\n",
    "print(num1, ch , num2, \"=\", result)"
   ]
  },
  {
   "cell_type": "code",
   "execution_count": 2,
   "id": "fea88c94",
   "metadata": {},
   "outputs": [
    {
     "name": "stdout",
     "output_type": "stream",
     "text": [
      "Enter First number: 5\n",
      "Enter Second number: 8\n",
      "Choose any of these operations +, -, *, /, **: -\n",
      "5 - 8 = -3\n"
     ]
    }
   ],
   "source": [
    "# Question - 01: Make a calculator using Python with addition , subtraction , multiplication ,division and  power\n",
    "num1 = int(input(\"Enter First number: \"))\n",
    "num2 = int(input(\"Enter Second number: \"))\n",
    "\n",
    "ch = input(\"Choose any of these operations +, -, *, /, **: \")\n",
    "\n",
    "result = 0\n",
    "if ch == '+':\n",
    "    result = num1 + num2\n",
    "elif ch == '-':\n",
    "    result = num1 - num2\n",
    "elif ch == '*':\n",
    "    result = num1 * num2\n",
    "elif ch == '/':\n",
    "    result = num1 / num2\n",
    "elif ch == '**':\n",
    "    result = num1 ** num2\n",
    "else:\n",
    "    print(\"Input character is not recognized!\")\n",
    "\n",
    "print(num1, ch , num2, \"=\", result)"
   ]
  },
  {
   "cell_type": "code",
   "execution_count": 3,
   "id": "fcacc218",
   "metadata": {},
   "outputs": [
    {
     "name": "stdout",
     "output_type": "stream",
     "text": [
      "Enter First number: 5\n",
      "Enter Second number: 8\n",
      "Choose any of these operations +, -, *, /, **: *\n",
      "5 * 8 = 40\n"
     ]
    }
   ],
   "source": [
    "# Question - 01: Make a calculator using Python with addition , subtraction , multiplication ,division and  power\n",
    "num1 = int(input(\"Enter First number: \"))\n",
    "num2 = int(input(\"Enter Second number: \"))\n",
    "\n",
    "ch = input(\"Choose any of these operations +, -, *, /, **: \")\n",
    "\n",
    "result = 0\n",
    "if ch == '+':\n",
    "    result = num1 + num2\n",
    "elif ch == '-':\n",
    "    result = num1 - num2\n",
    "elif ch == '*':\n",
    "    result = num1 * num2\n",
    "elif ch == '/':\n",
    "    result = num1 / num2\n",
    "elif ch == '**':\n",
    "    result = num1 ** num2\n",
    "else:\n",
    "    print(\"Input character is not recognized!\")\n",
    "\n",
    "print(num1, ch , num2, \"=\", result)"
   ]
  },
  {
   "cell_type": "code",
   "execution_count": 4,
   "id": "20a1d98b",
   "metadata": {},
   "outputs": [
    {
     "name": "stdout",
     "output_type": "stream",
     "text": [
      "Enter First number: 5\n",
      "Enter Second number: 8\n",
      "Choose any of these operations +, -, *, /, **: /\n",
      "5 / 8 = 0.625\n"
     ]
    }
   ],
   "source": [
    "# Question - 01: Make a calculator using Python with addition , subtraction , multiplication ,division and  power\n",
    "num1 = int(input(\"Enter First number: \"))\n",
    "num2 = int(input(\"Enter Second number: \"))\n",
    "\n",
    "ch = input(\"Choose any of these operations +, -, *, /, **: \")\n",
    "\n",
    "result = 0\n",
    "if ch == '+':\n",
    "    result = num1 + num2\n",
    "elif ch == '-':\n",
    "    result = num1 - num2\n",
    "elif ch == '*':\n",
    "    result = num1 * num2\n",
    "elif ch == '/':\n",
    "    result = num1 / num2\n",
    "elif ch == '**':\n",
    "    result = num1 ** num2\n",
    "else:\n",
    "    print(\"Input character is not recognized!\")\n",
    "\n",
    "print(num1, ch , num2, \"=\", result)"
   ]
  },
  {
   "cell_type": "code",
   "execution_count": 5,
   "id": "d7581a88",
   "metadata": {},
   "outputs": [
    {
     "name": "stdout",
     "output_type": "stream",
     "text": [
      "Enter First number: 5\n",
      "Enter Second number: 8\n",
      "Choose any of these operations +, -, *, /, **: **\n",
      "5 ** 8 = 390625\n"
     ]
    }
   ],
   "source": [
    "# Question - 01: Make a calculator using Python with addition , subtraction , multiplication ,division and  power\n",
    "num1 = int(input(\"Enter First number: \"))\n",
    "num2 = int(input(\"Enter Second number: \"))\n",
    "\n",
    "ch = input(\"Choose any of these operations +, -, *, /, **: \")\n",
    "\n",
    "result = 0\n",
    "if ch == '+':\n",
    "    result = num1 + num2\n",
    "elif ch == '-':\n",
    "    result = num1 - num2\n",
    "elif ch == '*':\n",
    "    result = num1 * num2\n",
    "elif ch == '/':\n",
    "    result = num1 / num2\n",
    "elif ch == '**':\n",
    "    result = num1 ** num2\n",
    "else:\n",
    "    print(\"Input character is not recognized!\")\n",
    "\n",
    "print(num1, ch , num2, \"=\", result)"
   ]
  },
  {
   "cell_type": "code",
   "execution_count": 7,
   "id": "fe028ac3",
   "metadata": {},
   "outputs": [
    {
     "name": "stdout",
     "output_type": "stream",
     "text": [
      "Numeric Value Exists\n"
     ]
    }
   ],
   "source": [
    "# Question - 02: Write a program to check if there is any numeric value in list using for loop.\n",
    "list = [\"a\", \"b\", 4, \"c\",\"d\"] \n",
    "for x in list: \n",
    "    if type(x) == int: \n",
    "        print(\"Numeric Value Exists\")"
   ]
  },
  {
   "cell_type": "code",
   "execution_count": 9,
   "id": "d28b6926",
   "metadata": {},
   "outputs": [
    {
     "name": "stdout",
     "output_type": "stream",
     "text": [
      "{1, 2, 3, 4}\n",
      "{1, 2, 3, 4, 8, 9}\n"
     ]
    }
   ],
   "source": [
    "# Question - 03: Write a Python script to add a key to a dictionary.\n",
    "dic = {1, 2, 3, 4}\n",
    "print(dic)\n",
    "dic.update({8, 9})\n",
    "print(dic)"
   ]
  },
  {
   "cell_type": "code",
   "execution_count": 11,
   "id": "654a3622",
   "metadata": {},
   "outputs": [
    {
     "name": "stdout",
     "output_type": "stream",
     "text": [
      "100\n"
     ]
    }
   ],
   "source": [
    "# Question - 04: Write a Python program to sum all the numeric items in a dictionary.\n",
    "dic = {'a':10,'b':20,'c':30,'d':40}\n",
    "print(sum(dic.values()))"
   ]
  },
  {
   "cell_type": "code",
   "execution_count": 12,
   "id": "ff642205",
   "metadata": {},
   "outputs": [
    {
     "name": "stdout",
     "output_type": "stream",
     "text": [
      "1\n",
      "2\n",
      "4\n"
     ]
    }
   ],
   "source": [
    "# Question - 05: Write a program to identify duplicate values from list.\n",
    "List=[1,2,3,4,5,1,2,4]\n",
    "List_1=[]\n",
    "for i in List:\n",
    "    if i not in List_1:\n",
    "        List_1.append(i)\n",
    "    else:\n",
    "        print(i)"
   ]
  },
  {
   "cell_type": "code",
   "execution_count": 22,
   "id": "0774a47d",
   "metadata": {},
   "outputs": [
    {
     "name": "stdout",
     "output_type": "stream",
     "text": [
      "k is not Present\n"
     ]
    }
   ],
   "source": [
    "# Question - 06: Write a Python script to check if a given key already exists in a dictionary\n",
    "dic = {'a':1,'b':2,'c':3,'c':4,'d':5,}\n",
    "key = \"k\"\n",
    "if key in dic:\n",
    "    print(key,\"is Present\")\n",
    "else:\n",
    "    print(key,\"is not Present\")"
   ]
  },
  {
   "cell_type": "code",
   "execution_count": 23,
   "id": "ac4efeb5",
   "metadata": {},
   "outputs": [
    {
     "name": "stdout",
     "output_type": "stream",
     "text": [
      "a is Present\n"
     ]
    }
   ],
   "source": [
    "# Question - 06: Write a Python script to check if a given key already exists in a dictionary\n",
    "dic = {'a':1,'b':2,'c':3,'c':4,'d':5,}\n",
    "key = \"a\"\n",
    "if key in dic:\n",
    "    print(key,\"is Present\")\n",
    "else:\n",
    "    print(key,\"is not Present\")"
   ]
  },
  {
   "cell_type": "code",
   "execution_count": null,
   "id": "385e656b",
   "metadata": {},
   "outputs": [],
   "source": []
  }
 ],
 "metadata": {
  "kernelspec": {
   "display_name": "Python 3",
   "language": "python",
   "name": "python3"
  },
  "language_info": {
   "codemirror_mode": {
    "name": "ipython",
    "version": 3
   },
   "file_extension": ".py",
   "mimetype": "text/x-python",
   "name": "python",
   "nbconvert_exporter": "python",
   "pygments_lexer": "ipython3",
   "version": "3.8.8"
  }
 },
 "nbformat": 4,
 "nbformat_minor": 5
}
